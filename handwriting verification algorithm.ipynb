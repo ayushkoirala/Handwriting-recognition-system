{
 "cells": [
  {
   "cell_type": "code",
   "execution_count": 5,
   "metadata": {
    "scrolled": false
   },
   "outputs": [
    {
     "name": "stderr",
     "output_type": "stream",
     "text": [
      "/home/ayush/.local/lib/python3.7/site-packages/tensorflow/python/framework/dtypes.py:516: FutureWarning: Passing (type, 1) or '1type' as a synonym of type is deprecated; in a future version of numpy, it will be understood as (type, (1,)) / '(1,)type'.\n",
      "  _np_qint8 = np.dtype([(\"qint8\", np.int8, 1)])\n",
      "/home/ayush/.local/lib/python3.7/site-packages/tensorflow/python/framework/dtypes.py:517: FutureWarning: Passing (type, 1) or '1type' as a synonym of type is deprecated; in a future version of numpy, it will be understood as (type, (1,)) / '(1,)type'.\n",
      "  _np_quint8 = np.dtype([(\"quint8\", np.uint8, 1)])\n",
      "/home/ayush/.local/lib/python3.7/site-packages/tensorflow/python/framework/dtypes.py:518: FutureWarning: Passing (type, 1) or '1type' as a synonym of type is deprecated; in a future version of numpy, it will be understood as (type, (1,)) / '(1,)type'.\n",
      "  _np_qint16 = np.dtype([(\"qint16\", np.int16, 1)])\n",
      "/home/ayush/.local/lib/python3.7/site-packages/tensorflow/python/framework/dtypes.py:519: FutureWarning: Passing (type, 1) or '1type' as a synonym of type is deprecated; in a future version of numpy, it will be understood as (type, (1,)) / '(1,)type'.\n",
      "  _np_quint16 = np.dtype([(\"quint16\", np.uint16, 1)])\n",
      "/home/ayush/.local/lib/python3.7/site-packages/tensorflow/python/framework/dtypes.py:520: FutureWarning: Passing (type, 1) or '1type' as a synonym of type is deprecated; in a future version of numpy, it will be understood as (type, (1,)) / '(1,)type'.\n",
      "  _np_qint32 = np.dtype([(\"qint32\", np.int32, 1)])\n",
      "/home/ayush/.local/lib/python3.7/site-packages/tensorflow/python/framework/dtypes.py:525: FutureWarning: Passing (type, 1) or '1type' as a synonym of type is deprecated; in a future version of numpy, it will be understood as (type, (1,)) / '(1,)type'.\n",
      "  np_resource = np.dtype([(\"resource\", np.ubyte, 1)])\n",
      "/home/ayush/.local/lib/python3.7/site-packages/tensorboard/compat/tensorflow_stub/dtypes.py:541: FutureWarning: Passing (type, 1) or '1type' as a synonym of type is deprecated; in a future version of numpy, it will be understood as (type, (1,)) / '(1,)type'.\n",
      "  _np_qint8 = np.dtype([(\"qint8\", np.int8, 1)])\n",
      "/home/ayush/.local/lib/python3.7/site-packages/tensorboard/compat/tensorflow_stub/dtypes.py:542: FutureWarning: Passing (type, 1) or '1type' as a synonym of type is deprecated; in a future version of numpy, it will be understood as (type, (1,)) / '(1,)type'.\n",
      "  _np_quint8 = np.dtype([(\"quint8\", np.uint8, 1)])\n",
      "/home/ayush/.local/lib/python3.7/site-packages/tensorboard/compat/tensorflow_stub/dtypes.py:543: FutureWarning: Passing (type, 1) or '1type' as a synonym of type is deprecated; in a future version of numpy, it will be understood as (type, (1,)) / '(1,)type'.\n",
      "  _np_qint16 = np.dtype([(\"qint16\", np.int16, 1)])\n",
      "/home/ayush/.local/lib/python3.7/site-packages/tensorboard/compat/tensorflow_stub/dtypes.py:544: FutureWarning: Passing (type, 1) or '1type' as a synonym of type is deprecated; in a future version of numpy, it will be understood as (type, (1,)) / '(1,)type'.\n",
      "  _np_quint16 = np.dtype([(\"quint16\", np.uint16, 1)])\n",
      "/home/ayush/.local/lib/python3.7/site-packages/tensorboard/compat/tensorflow_stub/dtypes.py:545: FutureWarning: Passing (type, 1) or '1type' as a synonym of type is deprecated; in a future version of numpy, it will be understood as (type, (1,)) / '(1,)type'.\n",
      "  _np_qint32 = np.dtype([(\"qint32\", np.int32, 1)])\n",
      "/home/ayush/.local/lib/python3.7/site-packages/tensorboard/compat/tensorflow_stub/dtypes.py:550: FutureWarning: Passing (type, 1) or '1type' as a synonym of type is deprecated; in a future version of numpy, it will be understood as (type, (1,)) / '(1,)type'.\n",
      "  np_resource = np.dtype([(\"resource\", np.ubyte, 1)])\n"
     ]
    },
    {
     "name": "stdout",
     "output_type": "stream",
     "text": [
      "WARNING:tensorflow:From <ipython-input-5-1687df9cf725>:4: read_data_sets (from tensorflow.contrib.learn.python.learn.datasets.mnist) is deprecated and will be removed in a future version.\n",
      "Instructions for updating:\n",
      "Please use alternatives such as official/mnist/dataset.py from tensorflow/models.\n",
      "WARNING:tensorflow:From /home/ayush/.local/lib/python3.7/site-packages/tensorflow/contrib/learn/python/learn/datasets/mnist.py:260: maybe_download (from tensorflow.contrib.learn.python.learn.datasets.base) is deprecated and will be removed in a future version.\n",
      "Instructions for updating:\n",
      "Please write your own downloading logic.\n",
      "WARNING:tensorflow:From /home/ayush/.local/lib/python3.7/site-packages/tensorflow/contrib/learn/python/learn/datasets/base.py:252: _internal_retry.<locals>.wrap.<locals>.wrapped_fn (from tensorflow.contrib.learn.python.learn.datasets.base) is deprecated and will be removed in a future version.\n",
      "Instructions for updating:\n",
      "Please use urllib or similar directly.\n",
      "Successfully downloaded train-images-idx3-ubyte.gz 9912422 bytes.\n",
      "WARNING:tensorflow:From /home/ayush/.local/lib/python3.7/site-packages/tensorflow/contrib/learn/python/learn/datasets/mnist.py:262: extract_images (from tensorflow.contrib.learn.python.learn.datasets.mnist) is deprecated and will be removed in a future version.\n",
      "Instructions for updating:\n",
      "Please use tf.data to implement this functionality.\n",
      "Extracting MNIST_data/train-images-idx3-ubyte.gz\n",
      "Successfully downloaded train-labels-idx1-ubyte.gz 28881 bytes.\n",
      "WARNING:tensorflow:From /home/ayush/.local/lib/python3.7/site-packages/tensorflow/contrib/learn/python/learn/datasets/mnist.py:267: extract_labels (from tensorflow.contrib.learn.python.learn.datasets.mnist) is deprecated and will be removed in a future version.\n",
      "Instructions for updating:\n",
      "Please use tf.data to implement this functionality.\n",
      "Extracting MNIST_data/train-labels-idx1-ubyte.gz\n",
      "WARNING:tensorflow:From /home/ayush/.local/lib/python3.7/site-packages/tensorflow/contrib/learn/python/learn/datasets/mnist.py:110: dense_to_one_hot (from tensorflow.contrib.learn.python.learn.datasets.mnist) is deprecated and will be removed in a future version.\n",
      "Instructions for updating:\n",
      "Please use tf.one_hot on tensors.\n",
      "Successfully downloaded t10k-images-idx3-ubyte.gz 1648877 bytes.\n",
      "Extracting MNIST_data/t10k-images-idx3-ubyte.gz\n",
      "Successfully downloaded t10k-labels-idx1-ubyte.gz 4542 bytes.\n",
      "Extracting MNIST_data/t10k-labels-idx1-ubyte.gz\n",
      "WARNING:tensorflow:From /home/ayush/.local/lib/python3.7/site-packages/tensorflow/contrib/learn/python/learn/datasets/mnist.py:290: DataSet.__init__ (from tensorflow.contrib.learn.python.learn.datasets.mnist) is deprecated and will be removed in a future version.\n",
      "Instructions for updating:\n",
      "Please use alternatives such as official/mnist/dataset.py from tensorflow/models.\n"
     ]
    }
   ],
   "source": [
    "import numpy as np\n",
    "import tensorflow as tf\n",
    "from tensorflow.examples.tutorials.mnist import input_data\n",
    "mnist =input_data.read_data_sets(\"MNIST_data/\",one_hot=True)"
   ]
  },
  {
   "cell_type": "code",
   "execution_count": 33,
   "metadata": {},
   "outputs": [
    {
     "data": {
      "text/plain": [
       "Datasets(train=<tensorflow.contrib.learn.python.learn.datasets.mnist.DataSet object at 0x7f0350494e10>, validation=<tensorflow.contrib.learn.python.learn.datasets.mnist.DataSet object at 0x7f035158d950>, test=<tensorflow.contrib.learn.python.learn.datasets.mnist.DataSet object at 0x7f035c695ad0>)"
      ]
     },
     "execution_count": 33,
     "metadata": {},
     "output_type": "execute_result"
    }
   ],
   "source": [
    "mnist"
   ]
  },
  {
   "cell_type": "code",
   "execution_count": 51,
   "metadata": {},
   "outputs": [
    {
     "name": "stderr",
     "output_type": "stream",
     "text": [
      "/home/ayush/.local/lib/python3.7/site-packages/tensorflow/python/client/session.py:1735: UserWarning: An interactive session is already active. This can cause out-of-memory errors in some cases. You must explicitly call `InteractiveSession.close()` to release resources held by the other session(s).\n",
      "  warnings.warn('An interactive session is already active. This can '\n"
     ]
    },
    {
     "name": "stdout",
     "output_type": "stream",
     "text": [
      "Epoch1.Training loss:0.924.validation loss:0.379.validaiton accuracy :90.24%\n",
      "Epoch2.Training loss:0.336.validation loss:0.272.validaiton accuracy :92.02%\n",
      "Epoch3.Training loss:0.266.validation loss:0.231.validaiton accuracy :93.58%\n",
      "Epoch4.Training loss:0.232.validation loss:0.206.validaiton accuracy :94.08%\n",
      "Epoch5.Training loss:0.206.validation loss:0.189.validaiton accuracy :94.56%\n",
      "Epoch6.Training loss:0.188.validation loss:0.174.validaiton accuracy :95.10%\n",
      "Epoch7.Training loss:0.172.validation loss:0.163.validaiton accuracy :95.16%\n",
      "Epoch8.Training loss:0.159.validation loss:0.152.validaiton accuracy :95.56%\n",
      "Epoch9.Training loss:0.147.validation loss:0.142.validaiton accuracy :95.88%\n",
      "Epoch10.Training loss:0.137.validation loss:0.136.validaiton accuracy :96.04%\n",
      "Epoch11.Training loss:0.128.validation loss:0.131.validaiton accuracy :96.20%\n",
      "Epoch12.Training loss:0.121.validation loss:0.125.validaiton accuracy :96.34%\n",
      "Epoch13.Training loss:0.114.validation loss:0.118.validaiton accuracy :96.58%\n",
      "Epoch14.Training loss:0.107.validation loss:0.115.validaiton accuracy :96.74%\n",
      "Epoch15.Training loss:0.101.validation loss:0.112.validaiton accuracy :96.74%\n",
      "End of training\n"
     ]
    }
   ],
   "source": [
    "input_size=784\n",
    "hidden_layer_size=100\n",
    "output_size=10\n",
    "\n",
    "\n",
    "tf.reset_default_graph()\n",
    "\n",
    "inputs=tf.placeholder(tf.float32,[None,input_size])\n",
    "targets=tf.placeholder(tf.float32,[None,output_size])\n",
    "\n",
    "weights_1=tf.get_variable(\"weights_1\",[input_size,hidden_layer_size])\n",
    "biases_1=tf.get_variable(\"biases_1\",[hidden_layer_size])\n",
    "\n",
    "outputs_1=tf.nn.relu(tf.matmul(inputs,weights_1)+biases_1)\n",
    "\n",
    "\n",
    "weights_2=tf.get_variable(\"weights_2\",[hidden_layer_size,hidden_layer_size])\n",
    "biases_2=tf.get_variable(\"biases_2\",[hidden_layer_size])\n",
    "\n",
    "outputs_2=tf.nn.relu(tf.matmul(outputs_1,weights_2)+biases_2)\n",
    "\n",
    "weights_3=tf.get_variable(\"weights_3\",[hidden_layer_size,output_size])\n",
    "biases_3=tf.get_variable(\"biases_3\",[output_size])\n",
    "\n",
    "outputs=tf.matmul(outputs_2,weights_3)+biases_3\n",
    "\n",
    "loss=tf.nn.softmax_cross_entropy_with_logits(logits=outputs,labels=targets)\n",
    "mean_loss=tf.reduce_mean(loss)\n",
    "optimize=tf.train.AdamOptimizer(learning_rate=0.0001).minimize(mean_loss)\n",
    "\n",
    "out_equals_target=tf.equal(tf.argmax(outputs,1),tf.argmax(targets,1))\n",
    "accuracy=tf.reduce_mean(tf.cast(out_equals_target,tf.float32))\n",
    "\n",
    "sess=tf.InteractiveSession()\n",
    "initializer=tf.global_variables_initializer()\n",
    "sess.run(initializer)\n",
    "  \n",
    "batch_size=100\n",
    "batches_number=mnist.train._num_examples//batch_size\n",
    "max_epoches=15\n",
    "prev_validation_loss=99999999\n",
    "\n",
    "for epoch_counter in range(max_epoches):\n",
    "    curr_epoch_loss=0.\n",
    "    for batch_counter in range(batches_number):\n",
    "        input_batch,target_batch=mnist.train.next_batch(batch_size)\n",
    "        _,batch_loss=sess.run([optimize,mean_loss],\n",
    "                             feed_dict={inputs:input_batch,targets:target_batch})\n",
    "        curr_epoch_loss+=batch_loss\n",
    "    curr_epoch_loss/=batches_number\n",
    "    input_batch,target_batch=mnist.validation.next_batch(mnist.validation._num_examples)\n",
    "    validation_loss,validation_accuracy=sess.run([mean_loss,accuracy],\n",
    "                                                feed_dict={inputs:input_batch,targets:target_batch})\n",
    "    print('Epoch'+str(epoch_counter+1)+\n",
    "         '.Training loss:'+'{0:.3f}'.format(curr_epoch_loss)+\n",
    "         '.validation loss:'+'{0:.3f}'.format(validation_loss)+\n",
    "         '.validaiton accuracy :'+'{0:.2f}'.format(validation_accuracy*100.)+'%')\n",
    "    \n",
    "    if validation_loss > prev_validation_loss:\n",
    "        break\n",
    "    prev_validation_loss=validation_loss\n",
    "print(\"End of training\")\n"
   ]
  },
  {
   "cell_type": "code",
   "execution_count": 55,
   "metadata": {},
   "outputs": [
    {
     "name": "stdout",
     "output_type": "stream",
     "text": [
      "test Accuracy:96.37%\n"
     ]
    }
   ],
   "source": [
    "input_batch,target_batch=mnist.test.next_batch(mnist.test._num_examples)\n",
    "test_accuracy=sess.run([accuracy],\n",
    "                      feed_dict={inputs:input_batch,targets:target_batch})\n",
    "test_accuracy_percent=test_accuracy[0]*100.\n",
    "print('test Accuracy:'+'{0:.2f}'.format(test_accuracy_percent)+'%')"
   ]
  },
  {
   "cell_type": "code",
   "execution_count": null,
   "metadata": {},
   "outputs": [],
   "source": []
  }
 ],
 "metadata": {
  "kernelspec": {
   "display_name": "Python 3",
   "language": "python",
   "name": "python3"
  },
  "language_info": {
   "codemirror_mode": {
    "name": "ipython",
    "version": 3
   },
   "file_extension": ".py",
   "mimetype": "text/x-python",
   "name": "python",
   "nbconvert_exporter": "python",
   "pygments_lexer": "ipython3",
   "version": "3.7.4"
  }
 },
 "nbformat": 4,
 "nbformat_minor": 2
}
